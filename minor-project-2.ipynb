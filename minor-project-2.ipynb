{
 "cells": [
  {
   "cell_type": "code",
   "execution_count": 1,
   "metadata": {},
   "outputs": [
    {
     "name": "stdout",
     "output_type": "stream",
     "text": [
      "Requirement already up-to-date: scikit-learn in /opt/conda/lib/python3.6/site-packages (0.22.1)\r\n",
      "Requirement already satisfied, skipping upgrade: numpy>=1.11.0 in /opt/conda/lib/python3.6/site-packages (from scikit-learn) (1.18.1)\r\n",
      "Requirement already satisfied, skipping upgrade: scipy>=0.17.0 in /opt/conda/lib/python3.6/site-packages (from scikit-learn) (1.4.1)\r\n",
      "Requirement already satisfied, skipping upgrade: joblib>=0.11 in /opt/conda/lib/python3.6/site-packages (from scikit-learn) (0.14.1)\r\n"
     ]
    }
   ],
   "source": [
    "!pip install scikit-learn --upgrade"
   ]
  },
  {
   "cell_type": "code",
   "execution_count": 2,
   "metadata": {
    "_cell_guid": "b1076dfc-b9ad-4769-8c92-a6c4dae69d19",
    "_uuid": "8f2839f25d086af736a60e9eeb907d3b93b6e0e5"
   },
   "outputs": [],
   "source": [
    "# This Python 3 environment comes with many helpful analytics libraries installed\n",
    "# It is defined by the kaggle/python docker image: https://github.com/kaggle/docker-python\n",
    "# For example, here's several helpful packages to load in \n",
    "\n",
    "import numpy as np # linear algebra\n",
    "import pandas as pd # data processing, CSV file I/O (e.g. pd.read_csv)\n",
    "\n",
    "# Input data files are available in the \"../input/\" directory.\n",
    "# For example, running this (by clicking run or pressing Shift+Enter) will list all files under the input directory\n",
    "\n",
    "\n",
    "\n",
    "# Any results you write to the current directory are saved as output."
   ]
  },
  {
   "cell_type": "code",
   "execution_count": 3,
   "metadata": {
    "_cell_guid": "79c7e3d0-c299-4dcb-8224-4455121ee9b0",
    "_uuid": "d629ff2d2480ee46fbb7e2d37f6b5fab8052498a"
   },
   "outputs": [],
   "source": [
    "df = pd.read_csv(\"/kaggle/input/backblaze-q4-data/data_Q4_2019/2019-10-01.csv\")\n",
    "df = df.append(pd.read_csv(\"/kaggle/input/backblaze-q4-data/data_Q4_2019/2019-10-02.csv\"))\n",
    "df = df.append(pd.read_csv(\"/kaggle/input/backblaze-q4-data/data_Q4_2019/2019-10-03.csv\"))\n",
    "df = df.append(pd.read_csv(\"/kaggle/input/backblaze-q4-data/data_Q4_2019/2019-10-04.csv\"))\n",
    "df = df.append(pd.read_csv(\"/kaggle/input/backblaze-q4-data/data_Q4_2019/2019-10-05.csv\"))\n",
    "df = df.append(pd.read_csv(\"/kaggle/input/backblaze-q4-data/data_Q4_2019/2019-10-06.csv\"))\n",
    "df = df.append(pd.read_csv(\"/kaggle/input/backblaze-q4-data/data_Q4_2019/2019-10-07.csv\"))\n",
    "df = df.append(pd.read_csv(\"/kaggle/input/backblaze-q4-data/data_Q4_2019/2019-10-08.csv\"))\n",
    "df = df.append(pd.read_csv(\"/kaggle/input/backblaze-q4-data/data_Q4_2019/2019-10-09.csv\"))\n",
    "df = df.append(pd.read_csv(\"/kaggle/input/backblaze-q4-data/data_Q4_2019/2019-10-10.csv\"))\n",
    "df = df.append(pd.read_csv(\"/kaggle/input/backblaze-q4-data/data_Q4_2019/2019-10-11.csv\"))\n",
    "df = df.append(pd.read_csv(\"/kaggle/input/backblaze-q4-data/data_Q4_2019/2019-10-12.csv\"))\n",
    "df = df.append(pd.read_csv(\"/kaggle/input/backblaze-q4-data/data_Q4_2019/2019-10-13.csv\"))\n",
    "df = df.append(pd.read_csv(\"/kaggle/input/backblaze-q4-data/data_Q4_2019/2019-10-14.csv\"))\n",
    "df = df.append(pd.read_csv(\"/kaggle/input/backblaze-q4-data/data_Q4_2019/2019-10-15.csv\"))\n",
    "df = df.append(pd.read_csv(\"/kaggle/input/backblaze-q4-data/data_Q4_2019/2019-10-16.csv\"))\n",
    "df = df.append(pd.read_csv(\"/kaggle/input/backblaze-q4-data/data_Q4_2019/2019-10-17.csv\"))\n",
    "df = df.append(pd.read_csv(\"/kaggle/input/backblaze-q4-data/data_Q4_2019/2019-10-18.csv\"))\n",
    "df = df.append(pd.read_csv(\"/kaggle/input/backblaze-q4-data/data_Q4_2019/2019-10-19.csv\"))\n",
    "df = df.append(pd.read_csv(\"/kaggle/input/backblaze-q4-data/data_Q4_2019/2019-10-20.csv\"))\n",
    "df = df.append(pd.read_csv(\"/kaggle/input/backblaze-q4-data/data_Q4_2019/2019-10-21.csv\"))\n",
    "df = df.append(pd.read_csv(\"/kaggle/input/backblaze-q4-data/data_Q4_2019/2019-10-22.csv\"))\n",
    "df = df.append(pd.read_csv(\"/kaggle/input/backblaze-q4-data/data_Q4_2019/2019-10-23.csv\"))\n",
    "df = df.append(pd.read_csv(\"/kaggle/input/backblaze-q4-data/data_Q4_2019/2019-10-24.csv\"))\n",
    "df = df.append(pd.read_csv(\"/kaggle/input/backblaze-q4-data/data_Q4_2019/2019-10-25.csv\"))\n",
    "df = df.append(pd.read_csv(\"/kaggle/input/backblaze-q4-data/data_Q4_2019/2019-10-26.csv\"))\n",
    "df = df.append(pd.read_csv(\"/kaggle/input/backblaze-q4-data/data_Q4_2019/2019-10-27.csv\"))\n",
    "df = df.append(pd.read_csv(\"/kaggle/input/backblaze-q4-data/data_Q4_2019/2019-10-28.csv\"))\n",
    "df = df.append(pd.read_csv(\"/kaggle/input/backblaze-q4-data/data_Q4_2019/2019-10-29.csv\"))\n",
    "df = df.append(pd.read_csv(\"/kaggle/input/backblaze-q4-data/data_Q4_2019/2019-10-30.csv\"))\n",
    "df = df.append(pd.read_csv(\"/kaggle/input/backblaze-q4-data/data_Q4_2019/2019-10-31.csv\"))\n",
    "\n"
   ]
  },
  {
   "cell_type": "code",
   "execution_count": 4,
   "metadata": {},
   "outputs": [
    {
     "name": "stdout",
     "output_type": "stream",
     "text": [
      "<class 'pandas.core.frame.DataFrame'>\n",
      "Int64Index: 3604399 entries, 0 to 118917\n",
      "Columns: 131 entries, date to smart_255_raw\n",
      "dtypes: float64(126), int64(2), object(3)\n",
      "memory usage: 3.5+ GB\n"
     ]
    }
   ],
   "source": [
    "df.info()"
   ]
  },
  {
   "cell_type": "code",
   "execution_count": 5,
   "metadata": {},
   "outputs": [
    {
     "data": {
      "text/plain": [
       "date                          0\n",
       "serial_number                 0\n",
       "model                         0\n",
       "capacity_bytes                0\n",
       "failure                       0\n",
       "                         ...   \n",
       "smart_252_raw           3604399\n",
       "smart_254_normalized    3595486\n",
       "smart_254_raw           3595486\n",
       "smart_255_normalized    3604399\n",
       "smart_255_raw           3604399\n",
       "Length: 131, dtype: int64"
      ]
     },
     "execution_count": 5,
     "metadata": {},
     "output_type": "execute_result"
    }
   ],
   "source": [
    "df.isnull().sum()"
   ]
  },
  {
   "cell_type": "code",
   "execution_count": 6,
   "metadata": {},
   "outputs": [],
   "source": [
    "df = df.drop([\"smart_2_normalized\" , \"smart_2_raw\" , \"smart_8_normalized\" , \"smart_8_raw\" , \"smart_189_normalized\" , \"smart_189_raw\" , \"smart_191_normalized\" , \"smart_191_raw\" , \"smart_196_normalized\" , \"smart_196_raw\" , \"smart_200_normalized\" , \"smart_200_raw\" , \"date\" , \"smart_11_normalized\" , \"smart_11_raw\" , \"smart_13_normalized\" , \"smart_13_raw\" , \"smart_15_normalized\" , \"smart_15_raw\" , \"smart_16_normalized\" , \"smart_16_raw\" , \"smart_17_normalized\" , \"smart_17_raw\" , \"smart_18_normalized\" , \"smart_18_raw\" , \"smart_22_normalized\" , \"smart_22_raw\" , \"smart_23_normalized\" , \"smart_23_raw\" , \"smart_24_normalized\" , \"smart_24_raw\" , \"smart_168_normalized\" , \"smart_168_raw\" , \"smart_170_normalized\" , \"smart_170_raw\" , \"smart_173_normalized\" , \"smart_173_raw\" , \"smart_174_normalized\" , \"smart_174_raw\" , \"smart_177_normalized\" , \"smart_177_raw\" , \"smart_179_normalized\" , \"smart_179_raw\" , \"smart_181_normalized\" , \"smart_181_raw\" , \"smart_182_normalized\" , \"smart_182_raw\" , \"smart_183_normalized\" , \"smart_183_raw\" , \"smart_184_normalized\" , \"smart_184_raw\" , \"smart_201_normalized\" , \"smart_201_raw\" , \"smart_218_normalized\" , \"smart_218_raw\" , \"smart_220_normalized\" , \"smart_220_raw\" , \"smart_222_normalized\" , \"smart_222_raw\" , \"smart_223_normalized\" , \"smart_223_raw\" , \"smart_224_normalized\" , \"smart_224_raw\" , \"smart_225_normalized\" , \"smart_225_raw\" , \"smart_226_normalized\" , \"smart_226_raw\" , \"smart_231_normalized\" , \"smart_231_raw\" , \"smart_232_normalized\" , \"smart_232_raw\" , \"smart_233_normalized\" , \"smart_233_raw\" , \"smart_235_normalized\" , \"smart_235_raw\" , \"smart_250_normalized\" , \"smart_250_raw\" , \"smart_251_normalized\" , \"smart_251_raw\" , \"smart_252_normalized\" , \"smart_252_raw\" , \"smart_254_normalized\" , \"smart_254_raw\" , \"smart_255_normalized\" , \"smart_255_raw\" ] , axis = 1)"
   ]
  },
  {
   "cell_type": "code",
   "execution_count": 7,
   "metadata": {},
   "outputs": [
    {
     "name": "stdout",
     "output_type": "stream",
     "text": [
      "<class 'pandas.core.frame.DataFrame'>\n",
      "Int64Index: 3604399 entries, 0 to 118917\n",
      "Data columns (total 46 columns):\n",
      "serial_number           object\n",
      "model                   object\n",
      "capacity_bytes          int64\n",
      "failure                 int64\n",
      "smart_1_normalized      float64\n",
      "smart_1_raw             float64\n",
      "smart_3_normalized      float64\n",
      "smart_3_raw             float64\n",
      "smart_4_normalized      float64\n",
      "smart_4_raw             float64\n",
      "smart_5_normalized      float64\n",
      "smart_5_raw             float64\n",
      "smart_7_normalized      float64\n",
      "smart_7_raw             float64\n",
      "smart_9_normalized      float64\n",
      "smart_9_raw             float64\n",
      "smart_10_normalized     float64\n",
      "smart_10_raw            float64\n",
      "smart_12_normalized     float64\n",
      "smart_12_raw            float64\n",
      "smart_187_normalized    float64\n",
      "smart_187_raw           float64\n",
      "smart_188_normalized    float64\n",
      "smart_188_raw           float64\n",
      "smart_190_normalized    float64\n",
      "smart_190_raw           float64\n",
      "smart_192_normalized    float64\n",
      "smart_192_raw           float64\n",
      "smart_193_normalized    float64\n",
      "smart_193_raw           float64\n",
      "smart_194_normalized    float64\n",
      "smart_194_raw           float64\n",
      "smart_195_normalized    float64\n",
      "smart_195_raw           float64\n",
      "smart_197_normalized    float64\n",
      "smart_197_raw           float64\n",
      "smart_198_normalized    float64\n",
      "smart_198_raw           float64\n",
      "smart_199_normalized    float64\n",
      "smart_199_raw           float64\n",
      "smart_240_normalized    float64\n",
      "smart_240_raw           float64\n",
      "smart_241_normalized    float64\n",
      "smart_241_raw           float64\n",
      "smart_242_normalized    float64\n",
      "smart_242_raw           float64\n",
      "dtypes: float64(42), int64(2), object(2)\n",
      "memory usage: 1.3+ GB\n"
     ]
    }
   ],
   "source": [
    "df.info()"
   ]
  },
  {
   "cell_type": "code",
   "execution_count": 8,
   "metadata": {},
   "outputs": [
    {
     "data": {
      "text/plain": [
       "serial_number                 0\n",
       "model                         0\n",
       "capacity_bytes                0\n",
       "failure                       0\n",
       "smart_1_normalized         2244\n",
       "smart_1_raw                2244\n",
       "smart_3_normalized         6577\n",
       "smart_3_raw                6577\n",
       "smart_4_normalized         6577\n",
       "smart_4_raw                6577\n",
       "smart_5_normalized         6577\n",
       "smart_5_raw                6577\n",
       "smart_7_normalized         6577\n",
       "smart_7_raw                6577\n",
       "smart_9_normalized         2244\n",
       "smart_9_raw                2244\n",
       "smart_10_normalized        6577\n",
       "smart_10_raw               6577\n",
       "smart_12_normalized        2244\n",
       "smart_12_raw               2244\n",
       "smart_187_normalized     996549\n",
       "smart_187_raw            996549\n",
       "smart_188_normalized     996549\n",
       "smart_188_raw            996549\n",
       "smart_190_normalized     996549\n",
       "smart_190_raw            996549\n",
       "smart_192_normalized       2244\n",
       "smart_192_raw              2244\n",
       "smart_193_normalized      22112\n",
       "smart_193_raw             22112\n",
       "smart_194_normalized       2244\n",
       "smart_194_raw              2244\n",
       "smart_195_normalized    1589899\n",
       "smart_195_raw           1589899\n",
       "smart_197_normalized       6577\n",
       "smart_197_raw              6577\n",
       "smart_198_normalized       6577\n",
       "smart_198_raw              6577\n",
       "smart_199_normalized       6577\n",
       "smart_199_raw              6577\n",
       "smart_240_normalized     926044\n",
       "smart_240_raw            926044\n",
       "smart_241_normalized     943546\n",
       "smart_241_raw            943546\n",
       "smart_242_normalized     943546\n",
       "smart_242_raw            943546\n",
       "dtype: int64"
      ]
     },
     "execution_count": 8,
     "metadata": {},
     "output_type": "execute_result"
    }
   ],
   "source": [
    "df.isnull().sum()"
   ]
  },
  {
   "cell_type": "code",
   "execution_count": 9,
   "metadata": {},
   "outputs": [
    {
     "name": "stdout",
     "output_type": "stream",
     "text": [
      "91.88836016218069\n",
      "88273068.52359796\n",
      "97.27127967976182\n",
      "161.8888066168921\n",
      "99.9980185234289\n",
      "9.583315683766456\n",
      "100.88912152963654\n",
      "22.29501292726544\n",
      "91.33331332122602\n",
      "1373318885.721972\n",
      "82.2506469044225\n",
      "19494.29668628918\n",
      "100.64907630227398\n",
      "31.60481674746555\n",
      "100.0\n",
      "6.65686568179326\n",
      "99.90572502252813\n",
      "1.6518637958471538\n",
      "99.9999969323389\n",
      "174784912.3992883\n",
      "71.75803439615008\n",
      "28.241965603849916\n",
      "100.50235400753161\n",
      "218.10269380412558\n",
      "94.98816454404687\n",
      "11423.160154672141\n",
      "75.72011476463395\n",
      "28.322074702504473\n",
      "64.05820402084885\n",
      "120968801.96951899\n",
      "100.89423045386904\n",
      "0.13335568018651284\n",
      "100.65624313820973\n",
      "0.11885385102431416\n",
      "199.99224530841158\n",
      "0.307775092820045\n",
      "99.95620446132047\n",
      "19667.143843142527\n",
      "100.01165039932683\n",
      "53156546075.34876\n",
      "100.01165039932683\n",
      "136177988794.8517\n"
     ]
    }
   ],
   "source": [
    "mean1 = df.smart_1_normalized.mean()\n",
    "print(mean1)\n",
    "mean1r = df.smart_1_raw.mean()\n",
    "print(mean1r)\n",
    "df.smart_1_normalized.fillna(mean1 , inplace = True)\n",
    "df.smart_1_raw.fillna(mean1r , inplace = True)\n",
    "\n",
    "mean3 = df.smart_3_normalized.mean()\n",
    "print(mean3)\n",
    "mean3r = df.smart_3_raw.mean()\n",
    "print(mean3r)\n",
    "df.smart_3_normalized.fillna(mean3 , inplace = True)\n",
    "df.smart_3_raw.fillna(mean3r , inplace = True)\n",
    "\n",
    "mean4 = df.smart_4_normalized.mean()\n",
    "print(mean4)\n",
    "mean4r = df.smart_4_raw.mean()\n",
    "print(mean4r)\n",
    "df.smart_4_normalized.fillna(mean4 , inplace = True)\n",
    "df.smart_4_raw.fillna(mean4r , inplace = True)\n",
    "\n",
    "mean5 = df.smart_5_normalized.mean()\n",
    "print(mean5)\n",
    "mean5r = df.smart_5_raw.mean()\n",
    "print(mean5r)\n",
    "df.smart_5_normalized.fillna(mean5 , inplace = True)\n",
    "df.smart_5_raw.fillna(mean5r , inplace = True)\n",
    "\n",
    "mean7 = df.smart_7_normalized.mean()\n",
    "print(mean7)\n",
    "mean7r = df.smart_7_raw.mean()\n",
    "print(mean7r)\n",
    "df.smart_7_normalized.fillna(mean7 , inplace = True)\n",
    "df.smart_7_raw.fillna(mean7r , inplace = True)\n",
    "\n",
    "mean9 = df.smart_9_normalized.mean()\n",
    "print(mean9)\n",
    "mean9r = df.smart_9_raw.mean()\n",
    "print(mean9r)\n",
    "df.smart_9_normalized.fillna(mean9 , inplace = True)\n",
    "df.smart_9_raw.fillna(mean9r , inplace = True)\n",
    "\n",
    "mean10 = df.smart_10_normalized.mean()\n",
    "print(mean10)\n",
    "mean10r = df.smart_10_raw.mean()\n",
    "print(mean10r)\n",
    "df.smart_10_normalized.fillna(mean10 , inplace = True)\n",
    "df.smart_10_raw.fillna(mean10r , inplace = True)\n",
    "\n",
    "mean12 = df.smart_12_normalized.mean()\n",
    "print(mean12)\n",
    "mean12r = df.smart_12_raw.mean()\n",
    "print(mean12r)\n",
    "df.smart_12_normalized.fillna(mean12 , inplace = True)\n",
    "df.smart_12_raw.fillna(mean12r , inplace = True)\n",
    "\n",
    "mean187 = df.smart_187_normalized.mean()\n",
    "print(mean187)\n",
    "mean187r = df.smart_187_raw.mean()\n",
    "print(mean187r)\n",
    "df.smart_187_normalized.fillna(mean187 , inplace = True)\n",
    "df.smart_187_raw.fillna(mean187r , inplace = True)\n",
    "\n",
    "mean188 = df.smart_188_normalized.mean()\n",
    "print(mean188)\n",
    "mean188r = df.smart_188_raw.mean()\n",
    "print(mean188r)\n",
    "df.smart_188_normalized.fillna(mean188 , inplace = True)\n",
    "df.smart_188_raw.fillna(mean188r , inplace = True)\n",
    "\n",
    "mean190 = df.smart_190_normalized.mean()\n",
    "print(mean190)\n",
    "mean190r = df.smart_190_raw.mean()\n",
    "print(mean190r)\n",
    "df.smart_190_normalized.fillna(mean190 , inplace = True)\n",
    "df.smart_190_raw.fillna(mean190r , inplace = True)\n",
    "\n",
    "mean192 = df.smart_192_normalized.mean()\n",
    "print(mean192)\n",
    "mean192r = df.smart_192_raw.mean()\n",
    "print(mean192r)\n",
    "df.smart_192_normalized.fillna(mean192 , inplace = True)\n",
    "df.smart_192_raw.fillna(mean192r , inplace = True)\n",
    "\n",
    "mean193 = df.smart_193_normalized.mean()\n",
    "print(mean193)\n",
    "mean193r = df.smart_193_raw.mean()\n",
    "print(mean193r)\n",
    "df.smart_193_normalized.fillna(mean193 , inplace = True)\n",
    "df.smart_193_raw.fillna(mean193r , inplace = True)\n",
    "\n",
    "mean194 = df.smart_194_normalized.mean()\n",
    "print(mean194)\n",
    "mean194r = df.smart_194_raw.mean()\n",
    "print(mean194r)\n",
    "df.smart_194_normalized.fillna(mean194 , inplace = True)\n",
    "df.smart_194_raw.fillna(mean194r , inplace = True)\n",
    "\n",
    "mean195 = df.smart_195_normalized.mean()\n",
    "print(mean195)\n",
    "mean195r = df.smart_195_raw.mean()\n",
    "print(mean195r)\n",
    "df.smart_195_normalized.fillna(mean195 , inplace = True)\n",
    "df.smart_195_raw.fillna(mean195r , inplace = True)\n",
    "\n",
    "mean197 = df.smart_197_normalized.mean()\n",
    "print(mean197)\n",
    "mean197r = df.smart_197_raw.mean()\n",
    "print(mean197r)\n",
    "df.smart_197_normalized.fillna(mean197 , inplace = True)\n",
    "df.smart_197_raw.fillna(mean197r , inplace = True)\n",
    "\n",
    "mean198 = df.smart_198_normalized.mean()\n",
    "print(mean198)\n",
    "mean198r = df.smart_198_raw.mean()\n",
    "print(mean198r)\n",
    "df.smart_198_normalized.fillna(mean198 , inplace = True)\n",
    "df.smart_198_raw.fillna(mean198r , inplace = True)\n",
    "\n",
    "mean199 = df.smart_199_normalized.mean()\n",
    "print(mean199)\n",
    "mean199r = df.smart_199_raw.mean()\n",
    "print(mean199r)\n",
    "df.smart_199_normalized.fillna(mean199 , inplace = True)\n",
    "df.smart_199_raw.fillna(mean199r , inplace = True)\n",
    "\n",
    "mean240 = df.smart_240_normalized.mean()\n",
    "print(mean240)\n",
    "mean240r = df.smart_240_raw.mean()\n",
    "print(mean240r)\n",
    "df.smart_240_normalized.fillna(mean240 , inplace = True)\n",
    "df.smart_240_raw.fillna(mean240r , inplace = True)\n",
    "\n",
    "mean241 = df.smart_241_normalized.mean()\n",
    "print(mean241)\n",
    "mean241r = df.smart_241_raw.mean()\n",
    "print(mean241r)\n",
    "df.smart_241_normalized.fillna(mean241 , inplace = True)\n",
    "df.smart_241_raw.fillna(mean241r , inplace = True)\n",
    "\n",
    "mean242 = df.smart_242_normalized.mean()\n",
    "print(mean242)\n",
    "mean242r = df.smart_242_raw.mean()\n",
    "print(mean242r)\n",
    "df.smart_242_normalized.fillna(mean242 , inplace = True)\n",
    "df.smart_242_raw.fillna(mean242r , inplace = True)"
   ]
  },
  {
   "cell_type": "code",
   "execution_count": 10,
   "metadata": {},
   "outputs": [],
   "source": [
    "from sklearn.preprocessing import LabelEncoder\n",
    "label=LabelEncoder()\n",
    "df['serial_number']=label.fit_transform(df['serial_number'])\n",
    "df['model']=label.fit_transform(df['model'])"
   ]
  },
  {
   "cell_type": "code",
   "execution_count": 11,
   "metadata": {},
   "outputs": [
    {
     "name": "stdout",
     "output_type": "stream",
     "text": [
      "Amount of Non Failure =  3604169\n",
      "Amount of Failure  =  230\n"
     ]
    }
   ],
   "source": [
    "a= len(df[df['failure'] == 0] )\n",
    "print (\"Amount of Non Failure = \" , a)\n",
    "b = len(df[df['failure'] == 1])\n",
    "print (\"Amount of Failure  = \" ,b )"
   ]
  },
  {
   "cell_type": "code",
   "execution_count": 12,
   "metadata": {},
   "outputs": [
    {
     "data": {
      "image/png": "[encoded data removed]",
      "text/plain": [
       "<Figure size 432x288 with 1 Axes>"
      ]
     },
     "metadata": {
      "needs_background": "light"
     },
     "output_type": "display_data"
    }
   ],
   "source": [
    "import matplotlib.pyplot as plt\n",
    "import seaborn as sns\n",
    "sns.countplot('failure', data=df)\n",
    "plt.ylabel(\"Frequency\")\n",
    "plt.show()"
   ]
  },
  {
   "cell_type": "code",
   "execution_count": 13,
   "metadata": {},
   "outputs": [
    {
     "name": "stderr",
     "output_type": "stream",
     "text": [
      "Using TensorFlow backend.\n"
     ]
    }
   ],
   "source": [
    "from sklearn.model_selection import train_test_split\n",
    "from sklearn.utils import resample\n",
    "from imblearn.over_sampling import SMOTE\n",
    "\n",
    "# Separate input features and target\n",
    "Y = df.failure\n",
    "X = df.drop(['failure',], axis=1)\n",
    "\n",
    "# setting up testing and training sets\n",
    "X_train, X_test, Y_train, Y_test = train_test_split(X, Y, test_size=0.3, random_state=2727)\n",
    "\n",
    "sm = SMOTE(random_state=2727)\n",
    "X_train, Y_train = sm.fit_sample(X_train, Y_train)"
   ]
  },
  {
   "cell_type": "code",
   "execution_count": 14,
   "metadata": {},
   "outputs": [],
   "source": [
    "X_train = pd.DataFrame(data=X_train)\n",
    "X_train.columns = ['serial_number','model','capacity_bytes','smart_1_normalized','smart_1_raw',\n",
    "                   'smart_3_normalized','smart_3_raw','smart_4_normalized','smart_4_raw','smart_5_normalized',\n",
    "                   'smart_5_raw','smart_7_normalized','smart_7_raw','smart_9_normalized','smart_9_raw',\n",
    "                   'smart_10_normalized','smart_10_raw','smart_12_normalized','smart_12_raw','smart_187_normalized',\n",
    "                   'smart_187_raw','smart_188_normalized','smart_188_raw','smart_190_normalized','smart_190_raw',\n",
    "                   'smart_192_normalized','smart_192_raw','smart_193_normalized','smart_193_raw',\n",
    "                   'smart_194_normalized','smart_194_raw','smart_195_normalized','smart_195_raw',\n",
    "                   'smart_197_normalized','smart_197_raw','smart_198_normalized','smart_198_raw',\n",
    "                   'smart_199_normalized','smart_199_raw','smart_240_normalized','smart_240_raw',\n",
    "                   'smart_241_normalized','smart_241_raw','smart_242_normalized','smart_242_raw']\n",
    "Y_train = pd.DataFrame(data = Y_train)\n",
    "Y_train.columns = ['failure']"
   ]
  },
  {
   "cell_type": "code",
   "execution_count": 15,
   "metadata": {},
   "outputs": [
    {
     "data": {
      "image/png": "[encoded data removed]",
      "text/plain": [
       "<Figure size 432x288 with 1 Axes>"
      ]
     },
     "metadata": {
      "needs_background": "light"
     },
     "output_type": "display_data"
    }
   ],
   "source": [
    "sns.countplot('failure', data=Y_train)\n",
    "plt.ylabel(\"Frequency\")\n",
    "plt.show()"
   ]
  },
  {
   "cell_type": "code",
   "execution_count": 16,
   "metadata": {},
   "outputs": [
    {
     "name": "stderr",
     "output_type": "stream",
     "text": [
      "/opt/conda/lib/python3.6/site-packages/sklearn/preprocessing/_label.py:235: DataConversionWarning: A column-vector y was passed when a 1d array was expected. Please change the shape of y to (n_samples, ), for example using ravel().\n",
      "  y = column_or_1d(y, warn=True)\n",
      "/opt/conda/lib/python3.6/site-packages/sklearn/preprocessing/_label.py:268: DataConversionWarning: A column-vector y was passed when a 1d array was expected. Please change the shape of y to (n_samples, ), for example using ravel().\n",
      "  y = column_or_1d(y, warn=True)\n"
     ]
    },
    {
     "name": "stdout",
     "output_type": "stream",
     "text": [
      "[07:42:38] WARNING: /workspace/src/learner.cc:686: Tree method is automatically selected to be 'approx' for faster speed. To use old behavior (exact greedy algorithm on single machine), set tree_method to 'exact'.\n"
     ]
    }
   ],
   "source": [
    "from xgboost import XGBClassifier\n",
    "from sklearn.metrics import accuracy_score\n",
    "smote = XGBClassifier()\n",
    "smote.fit(X_train, Y_train)\n",
    "\n",
    "# Predict on test\n",
    "smote_pred = smote.predict(X_test)\n",
    "# predict probabilities\n",
    "probs = smote.predict_proba(X_test)\n",
    "# keep probabilities for the positive outcome only\n",
    "probs = probs[:, 1]"
   ]
  },
  {
   "cell_type": "code",
   "execution_count": 17,
   "metadata": {},
   "outputs": [
    {
     "name": "stdout",
     "output_type": "stream",
     "text": [
      "Test Accuracy is 98.66%\n"
     ]
    }
   ],
   "source": [
    "accuracy = accuracy_score(Y_test, smote_pred)\n",
    "print(\"Test Accuracy is {:.2f}%\".format(accuracy * 100.0))"
   ]
  }
 ],
 "metadata": {
  "kernelspec": {
   "display_name": "Python 3",
   "language": "python",
   "name": "python3"
  },
  "language_info": {
   "codemirror_mode": {
    "name": "ipython",
    "version": 3
   },
   "file_extension": ".py",
   "mimetype": "text/x-python",
   "name": "python",
   "nbconvert_exporter": "python",
   "pygments_lexer": "ipython3",
   "version": "3.6.6"
  }
 },
 "nbformat": 4,
 "nbformat_minor": 1
}
